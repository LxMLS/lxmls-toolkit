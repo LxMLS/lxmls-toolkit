{
 "cells": [
  {
   "cell_type": "markdown",
   "metadata": {},
   "source": [
    "# State Value Function\n",
    "Next we will find different ways to compute the Value function given by a stochastic policy $\\pi(s) = p(a\\mid s)$.\n",
    "We want to calculate $V_{\\pi}(s)$ (the state-value-function given a policy)\n",
    "![mdp.png](mdp.png)\n",
    "\n",
    "Here we draw an Markov Decision Process (MDP) with three states $\\mathcal{S}=\\{s_1,s_2,s_3\\}$ and three possible actions $\\mathcal{A}=\\{a_1,a_2,a_3\\}$, moving to state $s_1$, moving to state $s_2$ and moving to state $s_3$."
   ]
  },
  {
   "cell_type": "code",
   "execution_count": null,
   "metadata": {
    "collapsed": true
   },
   "outputs": [],
   "source": [
    "%load_ext autoreload\n",
    "%autoreload 2"
   ]
  },
  {
   "cell_type": "markdown",
   "metadata": {},
   "source": [
    "# Policy Evaluation by Dynamic Programming \n",
    "\n",
    "For the MDP represented above we define the state transition probability matrix $\\mathcal{P}^a_{ss'}=p(S_{t+1}=s'\\mid S_{t}=s, A_t=a)$. In this MDP we assume that when we choose to move to state $s_i$, $i=\\{1,2,3\\}$ we always end up in that state, meaning that $\\mathcal{P}^a_{ss'}=p(S_{t+1}=s'\\mid S_{t}=s, A_t=a)=1$. In this case, $\\mathcal{P}^{\\pi}=\\mathcal{P}^a_{ss'}\\pi(a\\mid s) = \\pi(a\\mid s)$ the Bellman Expectation equation becomes (Check page 14 and 16 from the lecture slides.):\n",
    "$$\n",
    "V_{\\pi}(s) = \\sum_{a\\in\\mathcal{A}} \\pi(a\\mid s)\\left( \\mathcal{R}^a_s + \\gamma \\sum_{s'\\in \\mathcal{S}}\\mathcal{P}^a_{ss'}V_{\\pi}(s')\\right) = \\mathcal{R}^{\\pi}+ \\gamma \\sum_{s'\\in \\mathcal{S}}\\pi(a\\mid s)V_{\\pi}(s')\n",
    "$$\n"
   ]
  },
  {
   "cell_type": "code",
   "execution_count": null,
   "metadata": {},
   "outputs": [],
   "source": [
    "import numpy as np\n",
    "\n",
    "policy = np.array([[0.3, 0.2, 0.5], [0.5, 0.4, 0.1], [0.8, 0.1, 0.1]])\n",
    "print(\"This is represents the policy with 3 states and 3 actions p(row=a|col=s):\\n\", np.matrix(policy))\n",
    "# 'raw_rewards' variable contains rewards obtained after transition to each state\n",
    "# In our example it doesn't depend on source state\n",
    "raw_rewards = np.array([1.5, -1.833333333, 19.833333333])\n",
    "# 'rewards' variable contains expected values of the next reward for each state\n",
    "rewards = np.matmul(policy, raw_rewards)\n",
    "assert np.allclose(rewards, np.array([10., 2., 3.]))\n",
    "gamma = 0.1\n",
    "\n",
    "print('This are the rewards for each action:\\n', rewards)\n",
    "state_value_function = np.array([0 for i in range(3)])\n",
    "print('Policy evaluation:')\n",
    "for i in range(20):\n",
    "    print('V_{}={}'.format(i, state_value_function))\n",
    "    state_value_function = rewards + gamma * (np.matmul(policy, state_value_function))\n",
    "print('\\nV={}'.format(state_value_function))\n"
   ]
  },
  {
   "cell_type": "markdown",
   "metadata": {
    "collapsed": true
   },
   "source": [
    "# Policy Evaluation by Linear Programming\n",
    "\n",
    "The state-value-function can be directly solved through linear programming (as shown on page 15 from the lecture slides):\n",
    "$$\n",
    "V_{\\pi}(s)=\\left(I-\\gamma\\mathcal{P}^{\\pi}\\right)^{-1}\\mathcal{R}^{\\pi}\n",
    "$$"
   ]
  },
  {
   "cell_type": "code",
   "execution_count": null,
   "metadata": {},
   "outputs": [],
   "source": [
    "solution=np.matmul(np.linalg.inv(np.eye(3)-0.1*policy), rewards)\n",
    "print('Solution by inversion:\\nV={}'.format(state_value_function))"
   ]
  },
  {
   "cell_type": "markdown",
   "metadata": {},
   "source": [
    "The result stays the same. "
   ]
  },
  {
   "cell_type": "markdown",
   "metadata": {},
   "source": [
    "# Policy Evaluation by Monte Carlo Sampling\n",
    "\n",
    "We can design yet another way of evaluating the value of a given policy $\\pi$, see lecture slides pag.20.\n",
    "The intuition is to incrementally the expected return from sampled episodes, sequences of triplets $\\{(s_i,a_i,r_{i})\\}_{i=1}^N$. The function $\\color{blue}{gt}$ computes the total discounted reward from a list of sequential rewards obtained by sampling the policy: $G_t=r_t+\\gamma r_{t+1}+\\gamma^2 r_{t+2}+\\dots+\\gamma^N r_{t+N}$.\n",
    "\n",
    "The value of a policy can also be computed by looking at its empirical expected cumulative discounted return:\n",
    "$$\n",
    "V_{\\pi}(s) = \\mathbb{E}_{\\pi}\\left[G_t\\mid S_t=s\\right]\n",
    "$$"
   ]
  },
  {
   "cell_type": "code",
   "execution_count": null,
   "metadata": {},
   "outputs": [],
   "source": [
    "import random\n",
    "from collections import defaultdict\n",
    "\n",
    "reward_counter = np.array([0., 0., 0.])\n",
    "visit_counter = np.array([0., 0., 0.])\n",
    "nIterations = 400\n",
    "\n",
    "def gt(rewardlist, gamma=0.1):\n",
    "    '''\n",
    "    Function to calculate the total discounted reward\n",
    "    >>> gt([10, 2, 3], gamma=0.1)\n",
    "    10.23\n",
    "    '''\n",
    "    total_disc_return = 0\n",
    "    for (i, value) in enumerate(rewardlist):\n",
    "        total_disc_return += (gamma ** i) * value\n",
    "    return total_disc_return\n",
    "\n",
    "\n",
    "for i in range(nIterations): \n",
    "    start_state = random.randint(0, 2)\n",
    "    next_state = start_state\n",
    "    rewardlist = []\n",
    "    occurence = defaultdict(list)\n",
    "    for i in range(250): #draw samples from the policy recursively over horizon of N=250\n",
    "        rewardlist.append(rewards[next_state])\n",
    "        occurence[next_state].append(len(rewardlist) - 1)\n",
    "        action = np.random.choice(np.arange(0, 3), p=policy[next_state])\n",
    "        next_state = action\n",
    "\n",
    "    for state in occurence:\n",
    "        for value in occurence[state]: #update state value function E[G_t|s]=S(s)/N(s)\n",
    "            rew = gt(rewardlist[value:]) \n",
    "            reward_counter[state] += rew # S(s)\n",
    "            visit_counter[state] += 1 # N(s)\n",
    "\n",
    "print(\"MC policy evaluation V=\", reward_counter / visit_counter)"
   ]
  },
  {
   "cell_type": "markdown",
   "metadata": {
    "collapsed": true
   },
   "source": [
    "As can be seen the result is nearly the same as the state-value-function calculated above.\n",
    "\n",
    "So far we have seen different ways of given a known policy $\\pi(a\\mid s)$ how to comput its value $V_{\\pi}(s)$. Next, we wish to find the optimal policy $\\pi^\\ast(s)$ for the MDP in the example."
   ]
  },
  {
   "cell_type": "markdown",
   "metadata": {},
   "source": [
    "# Policy Optimization by Q-Learning\n",
    "\n",
    "This code solves a very easy problem: using the rewards it calculates the optimal action-value-function (page 26 on slides).\n",
    "\n",
    "It samples a state-action pair randomly, so that all state-action pairs can be seen."
   ]
  },
  {
   "cell_type": "code",
   "execution_count": null,
   "metadata": {},
   "outputs": [],
   "source": [
    "q_table = np.zeros((3, 3)) #state action value function Q-table\n",
    "gamma = 0.1\n",
    "alpha = 1.0\n",
    "for i in range(1001):\n",
    "    state = random.randint(0, 2)\n",
    "    action = random.randint(0, 2)\n",
    "    next_state = action\n",
    "    reward = raw_rewards[next_state]\n",
    "    next_q = max(q_table[next_state]) #s.a. value evaluation at the next state\n",
    "    q_table[state, action] = q_table[state, action] + alpha* (\n",
    "            reward + gamma * (next_q) - q_table[state, action])  #Q-Table update\n",
    "    if i % 200 == 0:\n",
    "        print(\"Q_{}(s,a)=\".format(i),q_table)\n"
   ]
  },
  {
   "cell_type": "markdown",
   "metadata": {
    "collapsed": true
   },
   "source": [
    "# Value Iteration\n",
    "\n"
   ]
  },
  {
   "cell_type": "code",
   "execution_count": null,
   "metadata": {},
   "outputs": [],
   "source": [
    "import numpy as np\n",
    "\n",
    "raw_rewards = np.array([1.5, -1.833333333, 19.833333333])\n",
    "gamma = 0.1\n",
    "\n",
    "state_value_function = np.zeros(3)\n",
    "print('V_{} = {}'.format(0, state_value_function))\n",
    "for i in range(1000):\n",
    "    for s in range(3):\n",
    "        Q_s = [raw_rewards[s_next] + gamma * state_value_function[s_next]\n",
    "               for s_next in range(3)]\n",
    "        state_value_function[s] = max(Q_s)\n",
    "    if i % 100 == 99:\n",
    "        print('V_{} = {}'.format(i + 1, state_value_function))\n"
   ]
  }
 ],
 "metadata": {
  "git": {
   "suppress_outputs": true
  },
  "kernelspec": {
   "display_name": "Python 3",
   "language": "python",
   "name": "python3"
  },
  "language_info": {
   "codemirror_mode": {
    "name": "ipython",
    "version": 3
   },
   "file_extension": ".py",
   "mimetype": "text/x-python",
   "name": "python",
   "nbconvert_exporter": "python",
   "pygments_lexer": "ipython3",
   "version": "3.6.5"
  }
 },
 "nbformat": 4,
 "nbformat_minor": 2
}
