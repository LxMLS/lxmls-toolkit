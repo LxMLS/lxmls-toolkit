{
 "cells": [
  {
   "cell_type": "markdown",
   "metadata": {},
   "source": [
    "# Policy RNN for Part-of-Speech Tagging"
   ]
  },
  {
   "cell_type": "code",
   "execution_count": 2,
   "metadata": {},
   "outputs": [],
   "source": [
    "# Load Part-of-Speech data\n",
    "from lxmls.readers.pos_corpus import PostagCorpusData\n",
    "data = PostagCorpusData()\n",
    "# Get batch iterators for train and test\n",
    "batch_size = 1\n",
    "train_batches = data.batches('train', batch_size=batch_size)\n",
    "dev_set = data.batches('dev', batch_size=batch_size)\n",
    "test_set = data.batches('test', batch_size=batch_size)"
   ]
  },
  {
   "cell_type": "code",
   "execution_count": 4,
   "metadata": {
    "scrolled": true
   },
   "outputs": [],
   "source": [
    "reinforce = True\n",
    "# Load version of the RNN\n",
    "from lxmls.deep_learning.pytorch_models.rnn import PolicyRNN\n",
    "model = PolicyRNN(\n",
    "input_size=data.input_size,\n",
    "embedding_size=50,\n",
    "hidden_size=100,\n",
    "output_size=data.output_size,\n",
    "learning_rate=0.05,\n",
    "gamma=0.8,\n",
    "RL=reinforce,\n",
    "maxL=data.maxL\n",
    ")"
   ]
  },
  {
   "cell_type": "code",
   "execution_count": 5,
   "metadata": {},
   "outputs": [
    {
     "name": "stdout",
     "output_type": "stream",
     "text": [
      "Epoch 1: dev accuracy 79.95 %\n",
      "Epoch 2: dev accuracy 85.14 %\n",
      "Epoch 3: dev accuracy 85.20 %\n",
      "Epoch 4: dev accuracy 85.20 %\n",
      "Epoch 5: dev accuracy 85.20 %\n",
      "Epoch 6: dev accuracy 85.20 %\n",
      "Epoch 7: dev accuracy 85.23 %\n",
      "Epoch 8: dev accuracy 85.20 %\n",
      "Epoch 9: dev accuracy 85.23 %\n",
      "Epoch 10: dev accuracy 85.20 %\n",
      "Epoch 11: dev accuracy 85.23 %\n",
      "Epoch 12: dev accuracy 85.20 %\n",
      "Epoch 13: dev accuracy 85.23 %\n",
      "Epoch 14: dev accuracy 85.20 %\n",
      "Epoch 15: dev accuracy 85.23 %\n",
      "Training took 3.39 seconds per epoch\n",
      "Test accuracy 84.11 %\n"
     ]
    }
   ],
   "source": [
    "import numpy as np\n",
    "import time\n",
    "\n",
    "# Run training\n",
    "num_epochs = 15\n",
    "batch_size = 1\n",
    "\n",
    "# Get batch iterators for train and test\n",
    "train_batches = data.sample('train', batch_size=batch_size)\n",
    "dev_set = data.sample('dev', batch_size=batch_size)\n",
    "test_set = data.sample('test', batch_size=batch_size)\n",
    "\n",
    "# Epoch loop\n",
    "start = time.time()\n",
    "for epoch in range(num_epochs):\n",
    "    # Batch loop\n",
    "    for batch in train_batches:\n",
    "        model.update(input=batch['input'], output=batch['output'])\n",
    "    # Evaluation dev\n",
    "    is_hit = []\n",
    "    for batch in dev_set:\n",
    "        loss = model.predict_loss(batch['input'], batch['output'])\n",
    "        is_hit.extend(loss)\n",
    "    accuracy = 100 * np.mean(is_hit)\n",
    "    # Inform user\n",
    "    print(\"Epoch %d: dev accuracy %2.2f %%\" % (epoch + 1, accuracy))\n",
    "    \n",
    "print(\"Training took %2.2f seconds per epoch\" % ((time.time() - start) / num_epochs))\n",
    "# Evaluation test\n",
    "is_hit = []\n",
    "for batch in test_set:\n",
    "    is_hit.extend(model.predict_loss(batch['input'],batch['output']))\n",
    "accuracy = 100 * np.mean(is_hit)\n",
    "\n",
    "# Inform user\n",
    "print(\"Test accuracy %2.2f %%\" % accuracy)"
   ]
  }
 ],
 "metadata": {
  "kernelspec": {
   "display_name": "Python 3",
   "language": "python",
   "name": "python3"
  },
  "language_info": {
   "codemirror_mode": {
    "name": "ipython",
    "version": 3
   },
   "file_extension": ".py",
   "mimetype": "text/x-python",
   "name": "python",
   "nbconvert_exporter": "python",
   "pygments_lexer": "ipython3",
   "version": "3.7.3"
  }
 },
 "nbformat": 4,
 "nbformat_minor": 2
}
