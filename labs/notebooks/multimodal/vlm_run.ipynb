{
 "cells": [
  {
   "cell_type": "markdown",
   "id": "02278fed",
   "metadata": {},
   "source": [
    "# Vision Language Models with Gemma 3"
   ]
  },
  {
   "cell_type": "markdown",
   "id": "fdf388b7",
   "metadata": {},
   "source": [
    "This notebook demonstrates how to use the Gemma3 Vision Language Model for various tasks, including text generation, image captioning, and answering questions about single or multiple images."
   ]
  },
  {
   "cell_type": "code",
   "execution_count": 1,
   "id": "0607605d",
   "metadata": {},
   "outputs": [],
   "source": [
    "import random\n",
    "from pathlib import Path\n",
    "\n",
    "import numpy as np\n",
    "import torch\n",
    "from PIL import Image\n",
    "\n",
    "from lxmls.multimodal.gemma3 import config\n",
    "from lxmls.multimodal.gemma3 import model as gemma3_model\n",
    "from lxmls.multimodal.gemma3.utils import set_default_tensor_type, display_prompt_and_result, format_prompt"
   ]
  },
  {
   "cell_type": "markdown",
   "id": "fa38bfce",
   "metadata": {},
   "source": [
    "## Setup\n",
    "\n",
    "First, let's define the arguments. You will need to set the `ckpt` path to your downloaded model checkpoint."
   ]
  },
  {
   "cell_type": "code",
   "execution_count": 2,
   "id": "ea5d3571",
   "metadata": {},
   "outputs": [],
   "source": [
    "class Args:\n",
    "    model_dir: str = \"../../../data/vlm/gemma3\"\n",
    "    image_dir: str = \"../../../data/vlm/images\"\n",
    "    device: str = \"cuda\" if torch.cuda.is_available() else \"mps\" if torch.backends.mps.is_available() else \"cpu\"\n",
    "    output_len: int = 128\n",
    "    seed: int = 42\n",
    "    quant: bool = False\n",
    "\n",
    "args = Args()"
   ]
  },
  {
   "cell_type": "code",
   "execution_count": 3,
   "id": "effc151d",
   "metadata": {},
   "outputs": [
    {
     "data": {
      "application/vnd.jupyter.widget-view+json": {
       "model_id": "0f81bd043c3841b5b295dc72eb018f08",
       "version_major": 2,
       "version_minor": 0
      },
      "text/plain": [
       "Fetching 3 files:   0%|          | 0/3 [00:00<?, ?it/s]"
      ]
     },
     "metadata": {},
     "output_type": "display_data"
    },
    {
     "data": {
      "text/plain": [
       "'/home/dsouzars/projects/lxmls-toolkit/data/vlm/gemma3'"
      ]
     },
     "execution_count": 3,
     "metadata": {},
     "output_type": "execute_result"
    }
   ],
   "source": [
    "from huggingface_hub import snapshot_download\n",
    "snapshot_download(\"rshwndsz/gemma-3-4b-it-ckpt\", local_dir=args.model_dir)"
   ]
  },
  {
   "cell_type": "markdown",
   "id": "0be423d4",
   "metadata": {},
   "source": [
    "### Load Model and Images"
   ]
  },
  {
   "cell_type": "code",
   "execution_count": 4,
   "id": "72f2d006",
   "metadata": {},
   "outputs": [
    {
     "name": "stdout",
     "output_type": "stream",
     "text": [
      "Model loading done\n"
     ]
    }
   ],
   "source": [
    "# Construct the model config\n",
    "model_config = config.get_model_config()\n",
    "model_config.dtype = \"float32\"\n",
    "model_config.quant = args.quant\n",
    "model_config.tokenizer = str(Path(args.model_dir) / \"tokenizer.model\")\n",
    "\n",
    "# Reproducibility settings\n",
    "random.seed(args.seed)\n",
    "np.random.seed(args.seed)\n",
    "torch.manual_seed(args.seed)\n",
    "\n",
    "# Instantiate model and load weights\n",
    "device = torch.device(args.device)\n",
    "with set_default_tensor_type(model_config.get_dtype()):\n",
    "    model = gemma3_model.Gemma3ForMultimodalLM(model_config)\n",
    "    model.load_state_dict(torch.load(Path(args.model_dir) / \"model.ckpt\")[\"model_state_dict\"])\n",
    "    model = model.to(device).eval()\n",
    "print(\"Model loading done\")"
   ]
  },
  {
   "cell_type": "markdown",
   "id": "631c95dc",
   "metadata": {},
   "source": [
    "## Text-Only Generation"
   ]
  },
  {
   "cell_type": "code",
   "execution_count": null,
   "id": "d6c1abce",
   "metadata": {},
   "outputs": [
    {
     "name": "stdout",
     "output_type": "stream",
     "text": [
      "================================================================================\n",
      "INPUT\n",
      "<start_of_turn>user\n",
      "Write a poem about a chonky cat.<end_of_turn>\n",
      "<start_of_turn>model\n",
      " --------------------------------------------------------------------------------\n",
      "GENERATED\n",
      "<start_of_turn>user\n",
      "Write a poem about a chonky cat.<end_of_turn>\n",
      "<start_of_turn>modelOkay, here's a poem about a chonky cat, aiming for a lighthearted and affectionate tone:\n",
      "\n",
      "**The Sultan of Softness**\n",
      "\n",
      "A rumble of warmth, a velvet plea,\n",
      "A furry mountain, happy to be.\n",
      "Sir Reginald, or just Reggie, you see,\n",
      "Is a chonky cat of magnificent glee.\n",
      "\n",
      "His belly jiggles with a joyful sway,\n",
      "As he navigates his kingdom, day by day.\n",
      "A nap upon the sofa, a blissful sigh,\n",
      "Beneath a fluffy, contented eye.\n",
      "\n",
      "He sheds a little, it’s true, it’s quite a\n",
      "================================================================================\n"
     ]
    },
    {
     "ename": "",
     "evalue": "",
     "output_type": "error",
     "traceback": [
      "\u001b[1;31mThe Kernel crashed while executing code in the current cell or a previous cell. \n",
      "\u001b[1;31mPlease review the code in the cell(s) to identify a possible cause of the failure. \n",
      "\u001b[1;31mClick <a href='https://aka.ms/vscodeJupyterKernelCrash'>here</a> for more info. \n",
      "\u001b[1;31mView Jupyter <a href='command:jupyter.viewOutput'>log</a> for further details."
     ]
    }
   ],
   "source": [
    "prompts = [\n",
    "    format_prompt([\"Write a poem about a chonky cat.\"]),\n",
    "]\n",
    "results = model.generate(\n",
    "    prompts,\n",
    "    device,\n",
    "    output_len=args.output_len,\n",
    ")\n",
    "\n",
    "for i, (prompt, result) in enumerate(zip(prompts, results)):\n",
    "    display_prompt_and_result(prompt, result)"
   ]
  },
  {
   "cell_type": "markdown",
   "id": "9137a8df",
   "metadata": {},
   "source": [
    "## Generation with text & a single image as input"
   ]
  },
  {
   "cell_type": "code",
   "execution_count": null,
   "id": "a463aa3d",
   "metadata": {},
   "outputs": [],
   "source": [
    "golden_test_image_path = Path(args.image_dir) / \"test_image.jpg\"\n",
    "prompts = [\n",
    "    format_prompt([ Image.open(golden_test_image_path), \"Caption this image.\" ]),\n",
    "]\n",
    "results = model.generate(\n",
    "    prompts,\n",
    "    device,\n",
    "    output_len=args.output_len,\n",
    ")\n",
    "\n",
    "for prompt, result in zip(prompts, results):\n",
    "    display_prompt_and_result(prompt, result)"
   ]
  },
  {
   "cell_type": "code",
   "execution_count": null,
   "id": "94aea0d4",
   "metadata": {},
   "outputs": [],
   "source": [
    "cow_in_beach_path = Path(args.image_dir) / \"cow_in_beach.jpg\"\n",
    "prompt = [\n",
    "    format_prompt([ Image.open(cow_in_beach_path), \"The name of the animal in the image is\"]),\n",
    "]\n",
    "results = model.generate(\n",
    "    prompts,\n",
    "    device,\n",
    "    output_len=args.output_len,\n",
    ")\n",
    "\n",
    "for prompt, result in zip(prompts, results):\n",
    "    display_prompt_and_result(prompt, result)"
   ]
  },
  {
   "cell_type": "markdown",
   "id": "21f09e44",
   "metadata": {},
   "source": [
    "## Generation with interleaved image & text input"
   ]
  },
  {
   "cell_type": "code",
   "execution_count": null,
   "id": "a7562c7f",
   "metadata": {},
   "outputs": [],
   "source": [
    "lilly_path = Path(args.image_dir) / \"lilly.jpg\"\n",
    "sunflower_path = Path(args.image_dir) / \"sunflower.jpg\"\n",
    "prompts = [\n",
    "    format_prompt([\n",
    "        \"This image\", Image.open(lilly_path),\n",
    "        \"and this image\", Image.open(sunflower_path),\n",
    "        \"are similar because? Give me the main reason.\"\n",
    "    ]),\n",
    "]\n",
    "results = model.generate(\n",
    "    prompts,\n",
    "    device,\n",
    "    output_len=args.output_len,\n",
    ")\n",
    "\n",
    "for prompt, result in zip(prompts, results):\n",
    "    display_prompt_and_result(prompt, result)"
   ]
  }
 ],
 "metadata": {
  "kernelspec": {
   "display_name": "lxmls",
   "language": "python",
   "name": "python3"
  },
  "language_info": {
   "codemirror_mode": {
    "name": "ipython",
    "version": 3
   },
   "file_extension": ".py",
   "mimetype": "text/x-python",
   "name": "python",
   "nbconvert_exporter": "python",
   "pygments_lexer": "ipython3",
   "version": "3.10.17"
  }
 },
 "nbformat": 4,
 "nbformat_minor": 5
}
